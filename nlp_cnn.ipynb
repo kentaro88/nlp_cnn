{
 "cells": [
  {
   "cell_type": "markdown",
   "metadata": {
    "colab_type": "text",
    "id": "XIgmkOef2_6o"
   },
   "source": [
    "# Neural Networks for Data Science Applications (2019/2020)\n",
    "## Final exam Presentation\n",
    "\n",
    "* **Student(s)**: Vikranth Ale (1873995) , Kentaro Kato (1851049)\n",
    "* **Reference paper / topic**: Erik Cambria, Soujanya Poria Et al., MAR/APR 2017. AFFECTIVE COMPUTING AND SENTIMENT ANALYSIS : Deep Learning - Based Document Modeling for Personality Detection from Text.  [*Reference Link*](https://sentic.net/deep-learning-based-personality-detection.pdf)\n",
    "\n",
    "\n"
   ]
  },
  {
   "cell_type": "markdown",
   "metadata": {
    "colab_type": "text",
    "id": "u9qAyulm3uB_"
   },
   "source": [
    "# Part 1: Report\n",
    "\n",
    "This research paper is mainly focussed with the idea on how we can identify and extract different personality traits of a person from a stream of consciousness essays using convolutional neural network (CNN). It is because automatic detection of a person’s personality traits has many practical applications, using sentiment analysis we can understand the types of products or services a person might be interested, word polarity disambiguation to convey polarity of different types of people, we can also correlate certain kind of medical health diagnosis with certain personality traits and many more use cases. \n",
    "\n",
    "In this paper the authors introduced a novel document modeling technique based on extracting CNN features by feeding sentences from the essays to convolution filters to obtain a sentence model in the form of n-gram feature vectors and then each individual essay by aggregating the vectors of its sentences. Finally by discarding the emotionally neutral input sentences and by concatenating the obtained document vectors with the Mairesse features extracted from the texts is fed to a fully connected neural network for final classification, this technique improved the method’s performance and results.\n",
    "\n",
    "\n",
    "**The following are the mathematical forms for the functions we used to build our model:**\n",
    "\n",
    "+ Generalized form of Cost Function for Multi-Class Classification Model with Regularization:\n",
    "\\begin{equation}\n",
    "J(\\theta) = \\frac{-1}{m}[\\sum_{i=1}^{m} y^{(i)} logh_{\\theta}(x^{(i)}) + (1 - y^{(i)} log( 1- h_{\\theta}(x^{(i)}))] + \\frac{\\lambda}{2m} \\sum_{i=1}^{n} \\theta_{j}^{2}\n",
    "\\end{equation}\n",
    "\n",
    "Here *m* is Number of samples and $h_{\\theta}(x^{(i)})$ is hypothesis\n",
    "where as $\\lambda$ is a regularization parameter and $\\theta$ is a bias/weights term\n",
    "\n",
    "We used Regularization for our learning algorithm to prevent overfitting and to generalize the model in a better way so as to improve model performance on test data as well.\n",
    "\n",
    "\n",
    "+ Cost Function for Neural Network:\n",
    "\\begin{equation}\n",
    "h(\\Theta) \\in R^{K} ,   (h_{\\Theta}(x))_{i} = i^{th} output \\\\\n",
    "J(\\theta) = \\frac{-1}{m}\\sum_{i=1}^{m} \\sum_{k=1}^{K} y_{k}^{(i)} log(h_{\\theta}(x^{(i)}))_{k} \n",
    "\\end{equation}\n",
    "\n",
    "Here **K** is the Number of classes in the final output layer and **$h{(x)}$** is a k-dimensional vector\n",
    "\n",
    "+ Rectified Linear Unit [ReLu]:\n",
    "\\begin{equation}\n",
    " f(x) =\n",
    "\\begin{cases}\n",
    "     x      & \\quad \\text{if } x > 0 \\\\\n",
    "     0      & \\quad \\text{if } x <=0\n",
    "\\end{cases}\n",
    "\\end{equation}\n",
    "\n",
    "+ Sigmoid Function:\n",
    "\\begin{equation}\n",
    " f(x) =  \\frac{1}{1 + \\exp(-x)}\n",
    "\\end{equation}\n",
    "\n",
    "\n",
    "+ SoftMax Function:\n",
    "\\begin{equation}\n",
    "Softmax(x_{i})  = \\frac{\\exp(x_{i})}{\\sum_{j=1}^{n}\\exp(x_{j})}\n",
    "\\end{equation}\n",
    "\n",
    "\n",
    "+ Adadelta Optimizer with Learning rate ($\\rho$) :\n",
    "\\begin{equation}\n",
    "x_{t} = x_{t-1} - g_{t}^{'} \\\\\n",
    "\\Delta x_{t} = \\rho \\Delta x_{t-1} + (1 - \\rho) x_{t}^{2}\n",
    "\\end{equation}\n",
    "\n",
    "Here $ g_{t}^{'} $ is the rescaled gradient which is computed by taking the ratio between the average squared rate of change and the average second moment of the gradient\n",
    "\n",
    "$\\Delta x_{t}$  to store a leaky average of the second moment of the change of parameters in the model \n",
    "\n"
   ]
  },
  {
   "cell_type": "markdown",
   "metadata": {
    "colab_type": "text",
    "id": "-8GmsjwJ5kUr"
   },
   "source": [
    "# Part 2: External libraries\n",
    "\n"
   ]
  },
  {
   "cell_type": "code",
   "execution_count": 0,
   "metadata": {
    "colab": {
     "base_uri": "https://localhost:8080/",
     "height": 289
    },
    "colab_type": "code",
    "id": "OoGMGkagVI5E",
    "outputId": "669f7f69-1619-402e-940f-efca4547771a"
   },
   "outputs": [
    {
     "name": "stdout",
     "output_type": "stream",
     "text": [
      "\u001b[K     |████████████████████████████████| 380.8MB 43kB/s \n",
      "\u001b[K     |████████████████████████████████| 3.8MB 62.1MB/s \n",
      "\u001b[K     |████████████████████████████████| 450kB 63.0MB/s \n",
      "\u001b[31mERROR: tensorflow 1.15.0 has requirement tensorboard<1.16.0,>=1.15.0, but you'll have tensorboard 2.0.2 which is incompatible.\u001b[0m\n",
      "\u001b[31mERROR: tensorflow 1.15.0 has requirement tensorflow-estimator==1.15.1, but you'll have tensorflow-estimator 2.0.1 which is incompatible.\u001b[0m\n",
      "\u001b[?25h--2020-02-22 19:41:48--  https://s3.amazonaws.com/dl4j-distribution/GoogleNews-vectors-negative300.bin.gz\n",
      "Resolving s3.amazonaws.com (s3.amazonaws.com)... 52.216.82.83\n",
      "Connecting to s3.amazonaws.com (s3.amazonaws.com)|52.216.82.83|:443... connected.\n",
      "HTTP request sent, awaiting response... 200 OK\n",
      "Length: 1647046227 (1.5G) [application/x-gzip]\n",
      "Saving to: ‘/root/input/GoogleNews-vectors-negative300.bin.gz’\n",
      "\n",
      "GoogleNews-vectors- 100%[===================>]   1.53G  87.8MB/s    in 38s     \n",
      "\n",
      "2020-02-22 19:42:26 (41.8 MB/s) - ‘/root/input/GoogleNews-vectors-negative300.bin.gz’ saved [1647046227/1647046227]\n",
      "\n"
     ]
    }
   ],
   "source": [
    "# We use tensorflow 2.0 with gpu support\n",
    "!pip -q install tensorflow-gpu==2.0.0\n",
    "\n",
    "# Get access for Google word2vec\n",
    "!wget -P /root/input/ -c \"https://s3.amazonaws.com/dl4j-distribution/GoogleNews-vectors-negative300.bin.gz\""
   ]
  },
  {
   "cell_type": "code",
   "execution_count": 0,
   "metadata": {
    "colab": {},
    "colab_type": "code",
    "id": "5kpXOQtuWYRR"
   },
   "outputs": [],
   "source": [
    "import warnings\n",
    "warnings.filterwarnings(\"ignore\")\n",
    "\n",
    "# preprocessing ---------\n",
    "import pandas as pd\n",
    "import numpy as np\n",
    "from collections import defaultdict\n",
    "import csv\n",
    "import re\n",
    "import gensim\n",
    "import pickle\n",
    "\n",
    "# CNN ---------------------\n",
    "import tensorflow as tf\n",
    "from tensorflow.keras.layers import Conv1D, GlobalMaxPooling1D, Activation, TimeDistributed\n",
    "from tensorflow.keras.layers import Input, Embedding, Dense, Reshape, Dropout,concatenate, BatchNormalization\n",
    "from tensorflow.keras.models import Model \n",
    "from tensorflow.keras.optimizers import SGD, Adadelta\n",
    "from keras import regularizers\n",
    "import tensorflow.keras.backend as K\n",
    "\n",
    "# Plotting ----------------\n",
    "import matplotlib.pyplot as plt"
   ]
  },
  {
   "cell_type": "code",
   "execution_count": 0,
   "metadata": {
    "colab": {
     "base_uri": "https://localhost:8080/",
     "height": 34
    },
    "colab_type": "code",
    "id": "i-YdbfN6iE0j",
    "outputId": "954e6f62-2dca-431f-cecf-f16eaa02065a"
   },
   "outputs": [
    {
     "name": "stdout",
     "output_type": "stream",
     "text": [
      "Drive already mounted at /content/drive; to attempt to forcibly remount, call drive.mount(\"/content/drive\", force_remount=True).\n"
     ]
    }
   ],
   "source": [
    "from google.colab import drive\n",
    "drive.mount('/content/drive')\n",
    "\n",
    "path = '/content/drive/My Drive/BI/Vicky_Ken/NeuralNetworks_Proj/data/'"
   ]
  },
  {
   "cell_type": "markdown",
   "metadata": {
    "colab_type": "text",
    "id": "mxqEVOdT6sZK"
   },
   "source": [
    "# Part 3: Code\n",
    "# Preprocessing"
   ]
  },
  {
   "cell_type": "markdown",
   "metadata": {
    "colab_type": "text",
    "id": "90jmbvaCWhdo"
   },
   "source": [
    "## External data\n",
    "First, we load all external data"
   ]
  },
  {
   "cell_type": "markdown",
   "metadata": {
    "colab_type": "text",
    "id": "T_TveZdoXxnJ"
   },
   "source": [
    "**Essay**\n",
    "\n",
    "- Extroversion (EXT). \n",
    "    Is the person outgoing, talk- ative, and energetic versus reserved and solitary?\n",
    "- Neuroticism (NEU). Is the person sensitive and nervous versus secure and confident?\n",
    "- Agreeableness (AGR). Is the person trustworthy, straightforward, generous, and modest versus unreliable, complicated, and boastful?\n",
    "- Conscientiousness (CON). Is the person effi- cient and organized versus sloppy and careless?\n",
    "- Openness (OPN). Is the person inventive and cu- rious versus dogmatic and cautious?"
   ]
  },
  {
   "cell_type": "code",
   "execution_count": 0,
   "metadata": {
    "colab": {
     "base_uri": "https://localhost:8080/",
     "height": 97
    },
    "colab_type": "code",
    "id": "S16rpofSXyq7",
    "outputId": "28728fa0-c948-411a-8cb4-bd571920470b"
   },
   "outputs": [
    {
     "name": "stdout",
     "output_type": "stream",
     "text": [
      "(2467, 7)\n"
     ]
    },
    {
     "data": {
      "text/html": [
       "<div>\n",
       "<style scoped>\n",
       "    .dataframe tbody tr th:only-of-type {\n",
       "        vertical-align: middle;\n",
       "    }\n",
       "\n",
       "    .dataframe tbody tr th {\n",
       "        vertical-align: top;\n",
       "    }\n",
       "\n",
       "    .dataframe thead th {\n",
       "        text-align: right;\n",
       "    }\n",
       "</style>\n",
       "<table border=\"1\" class=\"dataframe\">\n",
       "  <thead>\n",
       "    <tr style=\"text-align: right;\">\n",
       "      <th></th>\n",
       "      <th>#AUTHID</th>\n",
       "      <th>TEXT</th>\n",
       "      <th>cEXT</th>\n",
       "      <th>cNEU</th>\n",
       "      <th>cAGR</th>\n",
       "      <th>cCON</th>\n",
       "      <th>cOPN</th>\n",
       "    </tr>\n",
       "  </thead>\n",
       "  <tbody>\n",
       "    <tr>\n",
       "      <th>0</th>\n",
       "      <td>1997_012113.txt</td>\n",
       "      <td>The lights  are all out here in Hardin House. ...</td>\n",
       "      <td>y</td>\n",
       "      <td>n</td>\n",
       "      <td>y</td>\n",
       "      <td>y</td>\n",
       "      <td>n</td>\n",
       "    </tr>\n",
       "  </tbody>\n",
       "</table>\n",
       "</div>"
      ],
      "text/plain": [
       "           #AUTHID                                               TEXT  ... cCON cOPN\n",
       "0  1997_012113.txt  The lights  are all out here in Hardin House. ...  ...    y    n\n",
       "\n",
       "[1 rows x 7 columns]"
      ]
     },
     "execution_count": 5,
     "metadata": {
      "tags": []
     },
     "output_type": "execute_result"
    }
   ],
   "source": [
    "essays = pd.read_csv(path + 'essays.csv', encoding = \"ISO-8859-1\")\n",
    "\n",
    "# sort by the name of documents to extract exactly same names of mairesse files\n",
    "essays = essays.sort_values(by='#AUTHID').reset_index(drop=True)\n",
    "\n",
    "print(essays.shape)\n",
    "essays.head(1)"
   ]
  },
  {
   "cell_type": "markdown",
   "metadata": {
    "colab_type": "text",
    "id": "QblUx7npXxdA"
   },
   "source": [
    "\n",
    "**Mairesse**\n",
    "\n",
    "a document-level feature set for personality detection, cosisting of 84 features.\n",
    "\n",
    "For example, word count and average number of words per sen- tence, as well as the total number of pronouns, etc."
   ]
  },
  {
   "cell_type": "code",
   "execution_count": 0,
   "metadata": {
    "colab": {
     "base_uri": "https://localhost:8080/",
     "height": 146
    },
    "colab_type": "code",
    "id": "yGjqVsq-X8nc",
    "outputId": "a3e80dec-2860-41c5-834d-5d7ce42dbfaf"
   },
   "outputs": [
    {
     "name": "stdout",
     "output_type": "stream",
     "text": [
      "(2467, 85)\n"
     ]
    },
    {
     "data": {
      "text/html": [
       "<div>\n",
       "<style scoped>\n",
       "    .dataframe tbody tr th:only-of-type {\n",
       "        vertical-align: middle;\n",
       "    }\n",
       "\n",
       "    .dataframe tbody tr th {\n",
       "        vertical-align: top;\n",
       "    }\n",
       "\n",
       "    .dataframe thead th {\n",
       "        text-align: right;\n",
       "    }\n",
       "</style>\n",
       "<table border=\"1\" class=\"dataframe\">\n",
       "  <thead>\n",
       "    <tr style=\"text-align: right;\">\n",
       "      <th></th>\n",
       "      <th>0</th>\n",
       "      <th>1</th>\n",
       "      <th>2</th>\n",
       "      <th>3</th>\n",
       "      <th>4</th>\n",
       "      <th>5</th>\n",
       "      <th>6</th>\n",
       "      <th>7</th>\n",
       "      <th>8</th>\n",
       "      <th>9</th>\n",
       "      <th>10</th>\n",
       "      <th>11</th>\n",
       "      <th>12</th>\n",
       "      <th>13</th>\n",
       "      <th>14</th>\n",
       "      <th>15</th>\n",
       "      <th>16</th>\n",
       "      <th>17</th>\n",
       "      <th>18</th>\n",
       "      <th>19</th>\n",
       "      <th>20</th>\n",
       "      <th>21</th>\n",
       "      <th>22</th>\n",
       "      <th>23</th>\n",
       "      <th>24</th>\n",
       "      <th>25</th>\n",
       "      <th>26</th>\n",
       "      <th>27</th>\n",
       "      <th>28</th>\n",
       "      <th>29</th>\n",
       "      <th>30</th>\n",
       "      <th>31</th>\n",
       "      <th>32</th>\n",
       "      <th>33</th>\n",
       "      <th>34</th>\n",
       "      <th>35</th>\n",
       "      <th>36</th>\n",
       "      <th>37</th>\n",
       "      <th>38</th>\n",
       "      <th>39</th>\n",
       "      <th>...</th>\n",
       "      <th>45</th>\n",
       "      <th>46</th>\n",
       "      <th>47</th>\n",
       "      <th>48</th>\n",
       "      <th>49</th>\n",
       "      <th>50</th>\n",
       "      <th>51</th>\n",
       "      <th>52</th>\n",
       "      <th>53</th>\n",
       "      <th>54</th>\n",
       "      <th>55</th>\n",
       "      <th>56</th>\n",
       "      <th>57</th>\n",
       "      <th>58</th>\n",
       "      <th>59</th>\n",
       "      <th>60</th>\n",
       "      <th>61</th>\n",
       "      <th>62</th>\n",
       "      <th>63</th>\n",
       "      <th>64</th>\n",
       "      <th>65</th>\n",
       "      <th>66</th>\n",
       "      <th>67</th>\n",
       "      <th>68</th>\n",
       "      <th>69</th>\n",
       "      <th>70</th>\n",
       "      <th>71</th>\n",
       "      <th>72</th>\n",
       "      <th>73</th>\n",
       "      <th>74</th>\n",
       "      <th>75</th>\n",
       "      <th>76</th>\n",
       "      <th>77</th>\n",
       "      <th>78</th>\n",
       "      <th>79</th>\n",
       "      <th>80</th>\n",
       "      <th>81</th>\n",
       "      <th>82</th>\n",
       "      <th>83</th>\n",
       "      <th>84</th>\n",
       "    </tr>\n",
       "  </thead>\n",
       "  <tbody>\n",
       "    <tr>\n",
       "      <th>0</th>\n",
       "      <td>1997_012113.txt</td>\n",
       "      <td>-0.906225</td>\n",
       "      <td>-0.282501</td>\n",
       "      <td>0.804554</td>\n",
       "      <td>-0.550804</td>\n",
       "      <td>0.175804</td>\n",
       "      <td>1.416255</td>\n",
       "      <td>-0.183624</td>\n",
       "      <td>-0.085071</td>\n",
       "      <td>-0.273498</td>\n",
       "      <td>-0.003515</td>\n",
       "      <td>-0.222462</td>\n",
       "      <td>-0.373079</td>\n",
       "      <td>-0.143331</td>\n",
       "      <td>-0.404052</td>\n",
       "      <td>0.124246</td>\n",
       "      <td>0</td>\n",
       "      <td>-0.04277</td>\n",
       "      <td>-0.029669</td>\n",
       "      <td>-1.427898</td>\n",
       "      <td>0.645842</td>\n",
       "      <td>-1.332624</td>\n",
       "      <td>-0.742368</td>\n",
       "      <td>1.531386</td>\n",
       "      <td>-1.073173</td>\n",
       "      <td>-0.624052</td>\n",
       "      <td>0.161666</td>\n",
       "      <td>-0.19206</td>\n",
       "      <td>-0.515408</td>\n",
       "      <td>-0.222086</td>\n",
       "      <td>0.250951</td>\n",
       "      <td>-0.74627</td>\n",
       "      <td>-0.739476</td>\n",
       "      <td>-0.579416</td>\n",
       "      <td>-0.48731</td>\n",
       "      <td>-0.163903</td>\n",
       "      <td>-0.353006</td>\n",
       "      <td>-0.829634</td>\n",
       "      <td>0.832242</td>\n",
       "      <td>-0.711506</td>\n",
       "      <td>...</td>\n",
       "      <td>1.805426</td>\n",
       "      <td>-0.208015</td>\n",
       "      <td>0.75071</td>\n",
       "      <td>0.775876</td>\n",
       "      <td>-0.302782</td>\n",
       "      <td>1.204214</td>\n",
       "      <td>0.173573</td>\n",
       "      <td>0.596455</td>\n",
       "      <td>-0.25732</td>\n",
       "      <td>-0.057862</td>\n",
       "      <td>-0.846183</td>\n",
       "      <td>0.707897</td>\n",
       "      <td>1.133445</td>\n",
       "      <td>-0.314338</td>\n",
       "      <td>0.137457</td>\n",
       "      <td>-0.45325</td>\n",
       "      <td>0.032673</td>\n",
       "      <td>-0.689239</td>\n",
       "      <td>-0.027354</td>\n",
       "      <td>-0.333155</td>\n",
       "      <td>-0.136999</td>\n",
       "      <td>-0.280398</td>\n",
       "      <td>-0.086094</td>\n",
       "      <td>1.006282</td>\n",
       "      <td>-1.001457</td>\n",
       "      <td>-0.073676</td>\n",
       "      <td>-0.23436</td>\n",
       "      <td>-0.330042</td>\n",
       "      <td>-0.37208</td>\n",
       "      <td>-0.337085</td>\n",
       "      <td>-0.422267</td>\n",
       "      <td>0.744863</td>\n",
       "      <td>-0.451544</td>\n",
       "      <td>0.1333</td>\n",
       "      <td>0.226499</td>\n",
       "      <td>4.618658</td>\n",
       "      <td>3.369903</td>\n",
       "      <td>5.000089</td>\n",
       "      <td>4.670976</td>\n",
       "      <td>4.714842</td>\n",
       "    </tr>\n",
       "  </tbody>\n",
       "</table>\n",
       "<p>1 rows × 85 columns</p>\n",
       "</div>"
      ],
      "text/plain": [
       "                0         1         2   ...        82        83        84\n",
       "0  1997_012113.txt -0.906225 -0.282501  ...  5.000089  4.670976  4.714842\n",
       "\n",
       "[1 rows x 85 columns]"
      ]
     },
     "execution_count": 6,
     "metadata": {
      "tags": []
     },
     "output_type": "execute_result"
    }
   ],
   "source": [
    "df_mairesse = pd.read_csv(path + 'mairesse.csv', header=None, encoding = \"ISO-8859-1\")\n",
    "\n",
    "# sort by the name of documents to extract exactly same names of essay files\n",
    "df_mairesse = df_mairesse.sort_values(by=0).reset_index(drop=True)\n",
    "\n",
    "print(df_mairesse.shape)\n",
    "df_mairesse.head(1)"
   ]
  },
  {
   "cell_type": "markdown",
   "metadata": {
    "colab_type": "text",
    "id": "yTILwUL_XxRP"
   },
   "source": [
    "**Google word2vec**\n",
    "\n",
    "Google's pre-trained word2vec embeddings"
   ]
  },
  {
   "cell_type": "code",
   "execution_count": 0,
   "metadata": {
    "colab": {
     "base_uri": "https://localhost:8080/",
     "height": 34
    },
    "colab_type": "code",
    "id": "BSVupqt5X_vj",
    "outputId": "f2d4d450-bf9a-4da6-a290-436892f11cbb"
   },
   "outputs": [
    {
     "name": "stdout",
     "output_type": "stream",
     "text": [
      "3000000 words\n"
     ]
    }
   ],
   "source": [
    "EMBEDDING_FILE = '/root/input/GoogleNews-vectors-negative300.bin.gz'\n",
    "w2v_google = gensim.models.KeyedVectors.load_word2vec_format(EMBEDDING_FILE, binary=True)\n",
    "\n",
    "vacab_dict = w2v_google.vocab\n",
    "vacab_google = vacab_dict.keys()\n",
    "\n",
    "print('{} words'.format(len(set(vacab_google))))"
   ]
  },
  {
   "cell_type": "markdown",
   "metadata": {
    "colab_type": "text",
    "id": "4XgnL6rlg4rZ"
   },
   "source": [
    "**Emotion Lexicon**\n",
    "\n",
    "This contains 14,182 words tagged with 10 attributes: anger, antici- pation, disgust, fear, joy, negative, posi- tive, sadness, surprise, and trust.\n",
    "\n",
    "We obtain only emotionally charged words."
   ]
  },
  {
   "cell_type": "code",
   "execution_count": 0,
   "metadata": {
    "colab": {
     "base_uri": "https://localhost:8080/",
     "height": 131
    },
    "colab_type": "code",
    "id": "Iyv0pmsog5Hp",
    "outputId": "8343a336-63aa-4c61-c1a8-f21a8c964520"
   },
   "outputs": [
    {
     "name": "stdout",
     "output_type": "stream",
     "text": [
      "Loading emotion Lexicon data\n",
      "Total Number of words in Emotion Lexicon: 14182\n",
      "Total Number of Charged Words found\t:  6468\n"
     ]
    },
    {
     "data": {
      "text/html": [
       "<div>\n",
       "<style scoped>\n",
       "    .dataframe tbody tr th:only-of-type {\n",
       "        vertical-align: middle;\n",
       "    }\n",
       "\n",
       "    .dataframe tbody tr th {\n",
       "        vertical-align: top;\n",
       "    }\n",
       "\n",
       "    .dataframe thead th {\n",
       "        text-align: right;\n",
       "    }\n",
       "</style>\n",
       "<table border=\"1\" class=\"dataframe\">\n",
       "  <thead>\n",
       "    <tr style=\"text-align: right;\">\n",
       "      <th></th>\n",
       "      <th>Words</th>\n",
       "      <th>anger</th>\n",
       "      <th>anticipation</th>\n",
       "      <th>disgust</th>\n",
       "      <th>fear</th>\n",
       "      <th>joy</th>\n",
       "      <th>negative</th>\n",
       "      <th>positive</th>\n",
       "      <th>sadness</th>\n",
       "      <th>surprise</th>\n",
       "      <th>trust</th>\n",
       "      <th>Charged</th>\n",
       "    </tr>\n",
       "  </thead>\n",
       "  <tbody>\n",
       "    <tr>\n",
       "      <th>0</th>\n",
       "      <td>march</td>\n",
       "      <td>0</td>\n",
       "      <td>0</td>\n",
       "      <td>0</td>\n",
       "      <td>0</td>\n",
       "      <td>0</td>\n",
       "      <td>0</td>\n",
       "      <td>1</td>\n",
       "      <td>0</td>\n",
       "      <td>0</td>\n",
       "      <td>0</td>\n",
       "      <td>1</td>\n",
       "    </tr>\n",
       "  </tbody>\n",
       "</table>\n",
       "</div>"
      ],
      "text/plain": [
       "   Words  anger  anticipation  disgust  ...  sadness  surprise  trust  Charged\n",
       "0  march      0             0        0  ...        0         0      0        1\n",
       "\n",
       "[1 rows x 12 columns]"
      ]
     },
     "execution_count": 8,
     "metadata": {
      "tags": []
     },
     "output_type": "execute_result"
    }
   ],
   "source": [
    "print('Loading emotion Lexicon data')\n",
    "lex = pd.read_csv(path + 'Emotion_Lexicon.csv')\n",
    "print(\"Total Number of words in Emotion Lexicon: {}\".format(lex.shape[0]))\n",
    "\n",
    "# Extract the only words containin emotional meaning\n",
    "charged_words=[]\n",
    "for i in range(len(lex)):\n",
    "    if lex.iloc[i, :]['Charged'] == 1:\n",
    "        charged_words.append(lex.iloc[i, :]['Words'])\n",
    "charged_words = set(charged_words)\n",
    "\n",
    "print(\"Total Number of Charged Words found\\t:  {}\".format(len(charged_words)))\n",
    "lex.head(1)"
   ]
  },
  {
   "cell_type": "markdown",
   "metadata": {
    "colab_type": "text",
    "id": "5mj-BORBWmwV"
   },
   "source": [
    "## Functions for preprocessing"
   ]
  },
  {
   "cell_type": "code",
   "execution_count": 0,
   "metadata": {
    "colab": {},
    "colab_type": "code",
    "id": "aTzb0VCwZcFu"
   },
   "outputs": [],
   "source": [
    "# definition for cleaning sentences and extracting required features ------------------------------------------------------------------------------\n",
    "\n",
    "def clean_str(string):\n",
    "    \"\"\"\n",
    "    A function for cleaning sentences.\n",
    "    Extends one shortened word to 2 words  (i.e. i'm -> I am, you're -> you are) \n",
    "    Removes all words which are not numbers and alphabet\n",
    "    \"\"\"\n",
    "    string = re.sub(r\"\\'s\", \" \\'s \", string)\n",
    "    string = re.sub(r\"\\'m\", \" am \", string)\n",
    "    string = re.sub(r\"\\'ve\", \" have \", string)\n",
    "    string = re.sub(r\"n\\'t\", \" not \", string)\n",
    "    string = re.sub(r\"\\'re\", \" are \", string)\n",
    "    string = re.sub(r\"\\'d\" , \" would \", string)\n",
    "    string = re.sub(r\"\\'ll\", \" will \", string)\n",
    "    string = re.sub(r\",\", \" , \", string)\n",
    "    string = re.sub(r\"!\", \" ! \", string)\n",
    "    string = re.sub(r\"\\(\", \" ( \", string)\n",
    "    string = re.sub(r\"\\)\", \" ) \", string)\n",
    "    string = re.sub(r\"\\?\", \" \\? \", string)\n",
    "    string = re.sub(r\"[^A-Za-z0-9\\'\\`]\", \" \", string)\n",
    "    \n",
    "    return string.strip().lower()\n",
    "\n",
    "# extract documents information --------------------------------------------------------------------------------\n",
    "def get_documents(documents, n, n_cv = 5):\n",
    "    \"\"\"\n",
    "    A function to save information for each document\n",
    "    The information obtained here is:\n",
    "        Personality traits(True or False)\n",
    "        Sentences\n",
    "        Name of document,\n",
    "        The maximum number of words overall sentences (the longest sentences)\n",
    "        The number of sentences\n",
    "        CV number (0~4)\n",
    "    \"\"\"\n",
    "    revs = []\n",
    "    vocab = defaultdict(float)\n",
    "    for i in range(len(documents)):\n",
    "        \n",
    "        if len(revs) == n: # To obtained desired number of documents\n",
    "            break\n",
    "                \n",
    "        doc = documents.iloc[i, :]\n",
    "        sentences = doc['TEXT']\n",
    "        sentences = re.split(r'[.?]', sentences)  # split senteces by '.' of '?'    \n",
    "\n",
    "        sentences_in_doc = []\n",
    "        max_sent = 0 # max length of sentence\n",
    "        \n",
    "        for sent in sentences:\n",
    "            orig_rev = clean_str(sent.strip()) # clean the sentence\n",
    "            \n",
    "            if len(orig_rev) == 0: \n",
    "                continue\n",
    "                \n",
    "            words = set(orig_rev.split())  # words shown in the sentence\n",
    "            splitted = orig_rev.split()  \n",
    "            \n",
    "            if len(splitted)>150:  # To prevent ceating too big matrix for NN\n",
    "                orig_rev=[]\n",
    "                splits=int(np.floor(len(splitted)/20)) # How many parts to split the sentence\n",
    "                for index in range(splits):\n",
    "                    orig_rev.append(' '.join(splitted[index*20:(index+1)*20]))\n",
    "                if len(splitted)>splits*20: # The last part of the splitted sentence\n",
    "                    orig_rev.append(' '.join(splitted[splits*20:]))\n",
    "                sentences_in_doc.extend(orig_rev)\n",
    "            else:\n",
    "                sentences_in_doc.append(orig_rev)\n",
    "            \n",
    "            for word in words:\n",
    "                vocab[word] += 1  # Count the occurance of words(vocabulary)\n",
    "            \n",
    "        max_sent = np.max([len(sent.split()) for sent in sentences_in_doc])    # the longest sentences\n",
    "        true, false = [1,0], [0,1]  \n",
    "\n",
    "        doc_data  = {\"y0\":true if doc['cEXT'].lower()=='y' else false,\n",
    "                      \"y1\":true if doc['cNEU'].lower()=='y' else false,\n",
    "                      \"y2\":true if doc['cAGR'].lower()=='y' else false,\n",
    "                      \"y3\":true if doc['cCON'].lower()=='y' else false,\n",
    "                      \"y4\":true if doc['cOPN'].lower()=='y' else false,\n",
    "                      \"text\": sentences_in_doc,\n",
    "                      \"user\": doc['#AUTHID'],\n",
    "                      \"max_words\": max_sent,\n",
    "                      \"num_sents\": len(sentences_in_doc),\n",
    "                      \"split\": np.random.randint(0, n_cv) # For cross validation to split train and test\n",
    "                      } \n",
    "\n",
    "        revs.append(doc_data)\n",
    "\n",
    "    return revs, vocab\n",
    "\n",
    "def create_word2vec(w2v_google, vocab):\n",
    "    \"\"\"\n",
    "    Creates word2vec for shown words in our documents\n",
    "    \"\"\"\n",
    "    vocabs = list(vocab.keys())\n",
    "    w2v = {}\n",
    "    for word in vocabs:\n",
    "        try: # If the word can be found in google w2v\n",
    "            w2v[word] = w2v_google[word]\n",
    "        except: # Otherwise....\n",
    "            \"\"\"\n",
    "            0.25 is chosen for unknown vecotrs\n",
    "            so the unknown vectors have (approximately) same variance as pre-trained ones\n",
    "            \"\"\"\n",
    "            X = 1\n",
    "            if vocab[word] >= X:\n",
    "                w2v[word] = np.random.uniform(-0.25,0.25, 300)\n",
    "            continue\n",
    "            \n",
    "    return w2v\n",
    "\n",
    "def get_W(word_vecs, k=300):\n",
    "    \"\"\"\n",
    "    Creates a matrix of word2vec (first row is all zeros)\n",
    "    W[i] is the vector for word indexed by i\n",
    "    Also creates a word-idx mapping corresponding to the index or obtained matrix\n",
    "    \"\"\"\n",
    "    vocab_size = len(word_vecs)\n",
    "    word_idx_map = dict()\n",
    "    W = np.zeros(shape=(vocab_size+1, k))\n",
    "    W[0] = np.zeros(k)  # set all zeros on the first row\n",
    "    i = 1\n",
    "    for word in word_vecs:\n",
    "        W[i] = word_vecs[word]\n",
    "        word_idx_map[word] = i\n",
    "        i += 1\n",
    "    return W, word_idx_map\n",
    "\n",
    "# extract our chosen documents and create dictionary\n",
    "def get_mairesse_features(file, n):\n",
    "    \"\"\"\n",
    "    Obtains for desired number of  mairesse file\n",
    "\n",
    "    \"\"\"\n",
    "    features = {}\n",
    "    for i in range(len(file)):\n",
    "        data = file.iloc[i, :]\n",
    "        features[data[0]] = [float(f) for f in data[1:]]\n",
    "        \n",
    "        if len(features) == n:\n",
    "            break\n",
    "        \n",
    "    return features"
   ]
  },
  {
   "cell_type": "markdown",
   "metadata": {
    "colab_type": "text",
    "id": "0giOGK-FkHm2"
   },
   "source": [
    "### Now we run the functions to obtain desired number of document dataset"
   ]
  },
  {
   "cell_type": "code",
   "execution_count": 0,
   "metadata": {
    "colab": {
     "base_uri": "https://localhost:8080/",
     "height": 136
    },
    "colab_type": "code",
    "id": "w6TRWg9fdufw",
    "outputId": "5ad2ab0f-d19f-4b50-f921-c8747dde23e2"
   },
   "outputs": [
    {
     "name": "stdout",
     "output_type": "stream",
     "text": [
      "How many documents(Maximum : 2467)? \n",
      "1000\n",
      "How many cv(Maximum : 10)? \n",
      "5\n",
      "1000 documents, 18490 vocabularies\n",
      "max number of sentences in all documents 221\n",
      "max words in sentences in all documents 149\n"
     ]
    }
   ],
   "source": [
    "n = int(input(\"How many documents(Maximum : 2467)? \\n\"))\n",
    "if n > 2467: n = 2467\n",
    "n_cv = int(input(\"How many cv(Maximum : 10)? \\n\"))\n",
    "if n_cv > 10 : n_cv = 10\n",
    "\n",
    "revs, vocab = get_documents(essays, n, n_cv)\n",
    "print('{} documents, {} vocabularies'.format(len(revs), len(vocab)))\n",
    "\n",
    "N_SENT = 0\n",
    "N_WORD = 0\n",
    "for rev in revs:\n",
    "    num_sent = rev['num_sents']\n",
    "    num_words = rev['max_words']\n",
    "    if num_sent > N_SENT:\n",
    "        N_SENT = num_sent\n",
    "    if num_words > N_WORD:\n",
    "        N_WORD = num_words\n",
    "print('max number of sentences in all documents',N_SENT )\n",
    "print('max words in sentences in all documents',N_WORD )\n",
    "\n",
    "w2v = create_word2vec(w2v_google, vocab)\n",
    "W, word_idx_map = get_W(w2v)\n",
    "\n",
    "mairesse = get_mairesse_features(df_mairesse, n)"
   ]
  },
  {
   "cell_type": "markdown",
   "metadata": {
    "colab_type": "text",
    "id": "RqhdK4K0WmbC"
   },
   "source": [
    "## Functions to extract only the meaningful data from the whole dataset"
   ]
  },
  {
   "cell_type": "code",
   "execution_count": 0,
   "metadata": {
    "colab": {},
    "colab_type": "code",
    "id": "Y21dGOIShS6t"
   },
   "outputs": [],
   "source": [
    "def get_idx_from_sent(sentences, \n",
    "                        word_idx_map, \n",
    "                        charged_words, \n",
    "                        N_WORD,  # max_num_words\n",
    "                        N_SENT,   # max_num_sent\n",
    "                        filter_h, \n",
    "                        k):\n",
    "    \"\"\"\n",
    "    Transforms sentence into a list of indices \n",
    "    Pad with zeroes\n",
    "    \"\"\"\n",
    "    x = []\n",
    "    pad = filter_h - 1  # padding size\n",
    "    num_sentences = len(sentences) \n",
    "\n",
    "    pass_one=True\n",
    "    while len(x)==0: \n",
    "            \n",
    "        for i in range(num_sentences):\n",
    "            words = sentences[i].split()\n",
    "            if pass_one:\n",
    "                words_set = set(words)\n",
    "                if len(charged_words.intersection(words_set))==0: # there is no emotional words in this sentence\n",
    "                    continue\n",
    "                    \n",
    "            y=[]\n",
    "            for i in range(pad):\n",
    "                y.append(0)     # fill 0 on the left-padding\n",
    "            for word in words:\n",
    "                if word in word_idx_map:\n",
    "                    y.append(word_idx_map[word])\n",
    "\n",
    "            while len(y) < N_WORD+2*pad:\n",
    "                y.append(0)   # fill 0 on the right-padding\n",
    "            x.append(y)\n",
    "\n",
    "    if len(x) < N_SENT: # to make fixed-length sentence vectors\n",
    "        x.extend([[0]*(N_WORD+2*pad)]*(N_SENT-len(x)))\n",
    "        # [max_l+2*pad] is the number of 0s\n",
    "        # [max_s-len(x)] is the number of lack sentences in this documents\n",
    "\n",
    "    return x\n",
    "\n",
    "def create_dataset(revs, word_idx_map, charged_words, N_WORD, N_SENT, filter_h,cv = 0,per_attr = 0, k = 300):\n",
    "    \"\"\"\n",
    "    Splits all dataset into trainset and testset with specific personality trait\n",
    "    By using the cv number in reviews\n",
    "\n",
    "    \"\"\"\n",
    "    trainX, testX, trainY, testY, mTrain, mTest = [], [], [], [], [], []\n",
    "    for rev in revs:\n",
    "        sentences = rev['text']\n",
    "        # change words in sentences into index of words\n",
    "        idx_sentences = get_idx_from_sent(sentences, \n",
    "                                            word_idx_map, \n",
    "                                            charged_words, \n",
    "                                            N_WORD, \n",
    "                                            N_SENT, \n",
    "                                            filter_h, \n",
    "                                            k)\n",
    "\n",
    "        # Split train and test\n",
    "        if rev[\"split\"] == cv:\n",
    "            testX.append(idx_sentences)\n",
    "            testY.append(rev['y'+str(per_attr)])\n",
    "            mTest.append(mairesse[rev[\"user\"]])\n",
    "        else:\n",
    "            trainX.append(idx_sentences)\n",
    "            trainY.append(rev['y'+str(per_attr)])\n",
    "            mTrain.append(mairesse[rev[\"user\"]])\n",
    "\n",
    "    # convert to tensor\n",
    "    trainX = tf.convert_to_tensor(trainX, dtype=tf.float32)\n",
    "    trainY = tf.convert_to_tensor(trainY, dtype=tf.float32)\n",
    "    testX = tf.convert_to_tensor(testX, dtype=tf.float32)\n",
    "    testY = tf.convert_to_tensor(testY, dtype=tf.float32)\n",
    "    mTrain = tf.convert_to_tensor(mTrain, dtype=tf.float32)\n",
    "    mTest = tf.convert_to_tensor(mTest, dtype=tf.float32)\n",
    "\n",
    "    return trainX, testX, trainY, testY, mTrain, mTest"
   ]
  },
  {
   "cell_type": "markdown",
   "metadata": {
    "colab_type": "text",
    "id": "P8WR3GDZWmTe"
   },
   "source": [
    "## Splitting the data into Training and Test sets along with Mairesse features"
   ]
  },
  {
   "cell_type": "code",
   "execution_count": 0,
   "metadata": {
    "colab": {
     "base_uri": "https://localhost:8080/",
     "height": 187
    },
    "colab_type": "code",
    "id": "f3-3G2Fqhczp",
    "outputId": "3a4b0fc3-e7be-4230-e869-ca5313ab2e23"
   },
   "outputs": [
    {
     "name": "stdout",
     "output_type": "stream",
     "text": [
      "Shape of Training Test \t\t\t\t\t: (824, 221, 153)\n",
      "Total Number of documents in Training Test \t\t: 824\n",
      "Maximum Number of sentences in Training Test \t\t: 221\n",
      "Maximum Number of words in Training set (with padding)  : 153\n",
      "\n",
      "Number of Rows in Train set\t: 824\n",
      "Number of Rows in Test set \t: 176\n",
      "\n",
      "Overall Dimensions of the Splitted Data for Train, Test & Mairesse\n",
      "(824, 221, 153) (824, 2) (176, 221, 153) (176, 2) (824, 84) (176, 84)\n"
     ]
    }
   ],
   "source": [
    "filter_h = 3   # filter size -> padding size\n",
    "cv = 3 \n",
    "per_attr = 0\n",
    "\n",
    "trainX, testX, trainY, testY, mTrain, mTest = create_dataset(revs, \n",
    "                                                            word_idx_map, \n",
    "                                                            charged_words, \n",
    "                                                            N_WORD, \n",
    "                                                            N_SENT, \n",
    "                                                            filter_h, \n",
    "                                                            cv, \n",
    "                                                            per_attr, \n",
    "                                                            k = 300)\n",
    "\n",
    "print('Shape of Training Test \\t\\t\\t\\t\\t: {}'.format(trainX.shape))\n",
    "print('Total Number of documents in Training Test \\t\\t: {}'.format(trainX.shape[0]))\n",
    "print('Maximum Number of sentences in Training Test \\t\\t: {}'.format(trainX.shape[1]))\n",
    "print('Maximum Number of words in Training set (with padding)  : {}'.format(trainX.shape[2]))\n",
    "print(\"\")\n",
    "print('Number of Rows in Train set\\t: {}'.format(trainX.shape[0]))\n",
    "print('Number of Rows in Test set \\t: {}'.format(testX.shape[0]))\n",
    "print(\"\")\n",
    "print('Overall Dimensions of the Splitted Data for Train, Test & Mairesse')\n",
    "print(trainX.shape, trainY.shape, testX.shape, testY.shape, mTrain.shape, mTest.shape)"
   ]
  },
  {
   "cell_type": "markdown",
   "metadata": {
    "colab_type": "text",
    "id": "0zo28hcyj4-o"
   },
   "source": [
    "#### Finally, Our Dataset is ready ! and everything set for feeding it to our Neural Network for Classification"
   ]
  },
  {
   "cell_type": "markdown",
   "metadata": {
    "colab_type": "text",
    "id": "pai6v7zyqm0Y"
   },
   "source": [
    "## **Building the Neural Network Architecture**"
   ]
  },
  {
   "cell_type": "markdown",
   "metadata": {
    "colab_type": "text",
    "id": "IEyb8FbtWmMf"
   },
   "source": [
    "## Defining our Loss Function for Multi-class classification problem"
   ]
  },
  {
   "cell_type": "code",
   "execution_count": 0,
   "metadata": {
    "colab": {},
    "colab_type": "code",
    "id": "vy6BZo2LryeV"
   },
   "outputs": [],
   "source": [
    "# Negative log likelihood\n",
    "def negative_log_likelihood(y_true, y_pred):\n",
    "  \"\"\"\n",
    "  Minimizing the negative log-likelihood of our data with respect to θ given a Gaussian prior on θ \n",
    "  is equivalent to minimizing the binary cross-entropy (i.e. binary log loss) between the observed y \n",
    "  and our prediction of the probability thereof, plus the squared sum of (the elements of) θ itself.\n",
    "  \"\"\"\n",
    "  return -K.mean(y_true * K.log(y_pred))"
   ]
  },
  {
   "cell_type": "code",
   "execution_count": 0,
   "metadata": {
    "colab": {
     "base_uri": "https://localhost:8080/",
     "height": 102
    },
    "colab_type": "code",
    "id": "3m6mxVk3v19l",
    "outputId": "23ed0ac6-55d0-432a-db03-bd450d133387"
   },
   "outputs": [
    {
     "name": "stdout",
     "output_type": "stream",
     "text": [
      "Number of WORDS \t: 153\n",
      "Number of SENTENCES \t: 221\n",
      "Number of DOCUMENTS \t: 824\n",
      "Number of MAIR_FEATURES : 84\n",
      "Number of words in Vocab: 18491\n"
     ]
    }
   ],
   "source": [
    "# Required number of Documents,Sentences,Words and Mairesse features\n",
    "N_WORD = trainX.shape[2]\n",
    "print('Number of WORDS \\t:',N_WORD)\n",
    "N_SENT = trainX.shape[1]\n",
    "print('Number of SENTENCES \\t:',N_SENT)\n",
    "N_DOC = trainX.shape[0]\n",
    "print('Number of DOCUMENTS \\t:',N_DOC)\n",
    "N_MAI = mTrain.shape[1]\n",
    "print('Number of MAIR_FEATURES :',N_MAI)\n",
    "vocab_size = len(W)\n",
    "print(\"Number of words in Vocab:\",vocab_size)"
   ]
  },
  {
   "cell_type": "markdown",
   "metadata": {
    "colab_type": "text",
    "id": "smQ5pt3Su7hn"
   },
   "source": []
  },
  {
   "cell_type": "code",
   "execution_count": 0,
   "metadata": {
    "colab": {},
    "colab_type": "code",
    "id": "W2uvmW68WkOe"
   },
   "outputs": [],
   "source": [
    "# Defining a function to build our network \n",
    "\n",
    "def building_nn_model(N_SENT,N_WORD,N_MAI,same_params = False, show_model = False):\n",
    "\n",
    "    #Embedding Layer \n",
    "    embedding_layer = Embedding(vocab_size, 300,  weights=[W], input_length=N_WORD, trainable=True)\n",
    "  \n",
    "    # WORD VECTORIZATION -------------------------------------------------------\n",
    "    \n",
    "    # Words level attention model\n",
    "    word_input = Input(shape=(N_WORD,), dtype='float32')\n",
    "    embedding_layer = embedding_layer(word_input)\n",
    "    \n",
    "\n",
    "    # Unigram \n",
    "    unigram = Conv1D(filters=200, kernel_size=1, activation='relu', use_bias=True,name='Unigrams')(embedding_layer)\n",
    "    unigram = GlobalMaxPooling1D()(unigram)\n",
    "    unigram = Dropout(0.5)(unigram)\n",
    "\n",
    "\n",
    "    # Bigram\n",
    "    bigram = Conv1D(filters=200, kernel_size=2, activation='relu', use_bias=True,name='Bigrams')(embedding_layer)\n",
    "    bigram = GlobalMaxPooling1D()(bigram)\n",
    "    bigram = Dropout(0.5)(bigram)\n",
    "\n",
    "    # Trigram\n",
    "    trigram = Conv1D(filters=200, kernel_size=3, activation='relu', use_bias=True,name='Trigrams')(embedding_layer)\n",
    "    trigram = GlobalMaxPooling1D()(trigram)\n",
    "    trigram = Dropout(0.5)(trigram)\n",
    "\n",
    "    # Concatenation Layer \n",
    "    merged_ngrams = concatenate([unigram, bigram, trigram],axis=1, name=\"WordVectors\")\n",
    "    \n",
    "    # Creating Word Model with Input and Output \n",
    "    wordEncoder = Model(word_input, merged_ngrams , name=\"WORD_VECTORIZATION_N_GRAMS\") \n",
    "\n",
    "    # SENTENCE VECTORIZATION ---------------------------------------------------\n",
    "    \n",
    "    # Sentence level attention model\n",
    "    sent_input = Input(shape=(N_SENT, N_WORD,), dtype='float32')\n",
    "\n",
    "    # Aggregating Words into Sentences, Sentence into Documents\n",
    "    sent_encoder = TimeDistributed(wordEncoder)(sent_input)\n",
    "\n",
    "    # IMPORTANT: applying convolution for concatenation layer \n",
    "    sent_encoder = Conv1D(filters=600,kernel_size=1,use_bias=True,\n",
    "                            kernel_regularizer=regularizers.l2(0.001),\n",
    "                            activity_regularizer=regularizers.l1(0.001),\n",
    "                            trainable=True,name=\"Sent_Convolution\")(sent_encoder)\n",
    "    sent_encoder = BatchNormalization()(sent_encoder)  \n",
    "    sent_encoder = Activation('relu')(sent_encoder)\n",
    "\n",
    "    # Document Vectorization ---------------------------------------------------\n",
    "    #Document Vectors \n",
    "    d_network = GlobalMaxPooling1D(name=\"Document_network\")(sent_encoder)\n",
    "\n",
    "    # Mairesse Features --------------------------------------------------------\n",
    "    d_mairesse_input = Input(shape = (N_MAI, ), dtype='float32', name='Mairesse_features_input')\n",
    "\n",
    "    # Concatenate document vector and mairesse\n",
    "    d_vector_merged = concatenate([d_network, d_mairesse_input],axis=1,name=\"DocumentVectors\")\n",
    "\n",
    "    \"\"\" Regularization\n",
    "    We apply kernel_regularizer to reduce the weights(W) which are very large causing the network to overfit, after applying kernel_regularizer the weights will become smaller.\n",
    "    \n",
    "    Activity_regularizer tries to make the layers output y smaller so as to remove overfitting, it will reduce weights and adjust bias, so y is smallest or closer to zero.\n",
    "\n",
    "    \"\"\"\n",
    "    \n",
    "    # Fully connected Network for Classification\n",
    "    d_vector_fc = Dense(200, use_bias=True,\n",
    "                        kernel_regularizer=regularizers.l2(0.001),\n",
    "                        activity_regularizer=regularizers.l1(0.001),\n",
    "                        name=\"Dense_200\")(d_vector_merged)\n",
    "    d_vector_fc = BatchNormalization()(d_vector_fc)  \n",
    "    d_vector_fc = Activation('sigmoid')(d_vector_fc) \n",
    "    \n",
    "    # Dropout with 0.5 to avoid overfitting \n",
    "    d_vector_fc = Dropout(0.5, name=\"Dropout_0.5\")(d_vector_fc)\n",
    "\n",
    "    # classification \n",
    "    d_output_class = Dense(2,activation='softmax',name=\"Final_Classification\")(d_vector_fc)\n",
    "\n",
    "    # builidng model\n",
    "    model = Model(inputs=[sent_input, d_mairesse_input], outputs=[d_output_class],name=\"SENTENCES_DOCUMENTS_VECTORIZATION\")\n",
    "\n",
    "    #Adding weights to our document vector for sharing the network parameters\n",
    "    #If we use the same parameters for both convolution layers\n",
    "    if same_params:\n",
    "        params = wordEncoder.get_weights()[1:] # first one is embedding parameter\n",
    "        weights =  []\n",
    "        bias = []\n",
    "        for i in range(len(params)):\n",
    "        \n",
    "        if i % 2 == 0: # weights\n",
    "            w = [weight for weight1 in params[i] for weight2 in weight1 for weight in weight2]\n",
    "            weights.extend(w)\n",
    "        else: # bias\n",
    "            bias.extend(params[i])\n",
    "\n",
    "        weights,  bias = np.asarray(weights), np.asarray(bias)\n",
    "        weights = np.reshape(weights, (1, 600, 600))\n",
    "        params = np.array([weights, bias], dtype=object)\n",
    "        params = np.array([np.array(x) for x in params])\n",
    "        model.layers[2].set_weights(params)  #layer[2] is the second convolution layer\n",
    "\n",
    "    \n",
    "    # OPTIMIZER FUNCTION\n",
    "    # SGD with Adadelta Optimizer \n",
    "    adadelta = Adadelta(learning_rate=0.9, rho=0.95)\n",
    "\n",
    "    # Compile the Neural Network with Optimization and Loss Functions\n",
    "\n",
    "    model.compile(optimizer=adadelta, loss=negative_log_likelihood, metrics=['accuracy'])\n",
    "\n",
    "    # Printing the Model Summary \n",
    "    if show_model:\n",
    "        print(\"\")\n",
    "        print(\"PRINTING THE NEURAL NETWORK ARCHITECTURE \")\n",
    "        wordEncoder.summary()\n",
    "        model.summary()\n",
    "      \n",
    "    return wordEncoder,model"
   ]
  },
  {
   "cell_type": "code",
   "execution_count": 0,
   "metadata": {
    "colab": {
     "base_uri": "https://localhost:8080/",
     "height": 1000
    },
    "colab_type": "code",
    "id": "OjcpGgLQ26ND",
    "outputId": "6d6dca0b-659e-4876-81bd-b4333084ce9c"
   },
   "outputs": [
    {
     "name": "stdout",
     "output_type": "stream",
     "text": [
      "\n",
      "PRINTING THE NEURAL NETWORK ARCHITECTURE \n",
      "Model: \"WORD_VECTORIZATION_N_GRAMS\"\n",
      "__________________________________________________________________________________________________\n",
      "Layer (type)                    Output Shape         Param #     Connected to                     \n",
      "==================================================================================================\n",
      "input_19 (InputLayer)           [(None, 153)]        0                                            \n",
      "__________________________________________________________________________________________________\n",
      "embedding_9 (Embedding)         (None, 153, 300)     5547300     input_19[0][0]                   \n",
      "__________________________________________________________________________________________________\n",
      "Unigrams (Conv1D)               (None, 153, 200)     60200       embedding_9[0][0]                \n",
      "__________________________________________________________________________________________________\n",
      "Bigrams (Conv1D)                (None, 152, 200)     120200      embedding_9[0][0]                \n",
      "__________________________________________________________________________________________________\n",
      "Trigrams (Conv1D)               (None, 151, 200)     180200      embedding_9[0][0]                \n",
      "__________________________________________________________________________________________________\n",
      "global_max_pooling1d_27 (Global (None, 200)          0           Unigrams[0][0]                   \n",
      "__________________________________________________________________________________________________\n",
      "global_max_pooling1d_28 (Global (None, 200)          0           Bigrams[0][0]                    \n",
      "__________________________________________________________________________________________________\n",
      "global_max_pooling1d_29 (Global (None, 200)          0           Trigrams[0][0]                   \n",
      "__________________________________________________________________________________________________\n",
      "dropout_24 (Dropout)            (None, 200)          0           global_max_pooling1d_27[0][0]    \n",
      "__________________________________________________________________________________________________\n",
      "dropout_25 (Dropout)            (None, 200)          0           global_max_pooling1d_28[0][0]    \n",
      "__________________________________________________________________________________________________\n",
      "dropout_26 (Dropout)            (None, 200)          0           global_max_pooling1d_29[0][0]    \n",
      "__________________________________________________________________________________________________\n",
      "WordVectors (Concatenate)       (None, 600)          0           dropout_24[0][0]                 \n",
      "                                                                 dropout_25[0][0]                 \n",
      "                                                                 dropout_26[0][0]                 \n",
      "==================================================================================================\n",
      "Total params: 5,907,900\n",
      "Trainable params: 5,907,900\n",
      "Non-trainable params: 0\n",
      "__________________________________________________________________________________________________\n",
      "Model: \"SENTENCES_DOCUMENTS_VECTORIZATION\"\n",
      "__________________________________________________________________________________________________\n",
      "Layer (type)                    Output Shape         Param #     Connected to                     \n",
      "==================================================================================================\n",
      "input_20 (InputLayer)           [(None, 221, 153)]   0                                            \n",
      "__________________________________________________________________________________________________\n",
      "time_distributed_9 (TimeDistrib (None, 221, 600)     5907900     input_20[0][0]                   \n",
      "__________________________________________________________________________________________________\n",
      "Sent_Convolution (Conv1D)       (None, 221, 600)     360600      time_distributed_9[0][0]         \n",
      "__________________________________________________________________________________________________\n",
      "batch_normalization_14 (BatchNo (None, 221, 600)     2400        Sent_Convolution[0][0]           \n",
      "__________________________________________________________________________________________________\n",
      "activation_14 (Activation)      (None, 221, 600)     0           batch_normalization_14[0][0]     \n",
      "__________________________________________________________________________________________________\n",
      "Document_network (GlobalMaxPool (None, 600)          0           activation_14[0][0]              \n",
      "__________________________________________________________________________________________________\n",
      "Mairesse_features_input (InputL [(None, 84)]         0                                            \n",
      "__________________________________________________________________________________________________\n",
      "DocumentVectors (Concatenate)   (None, 684)          0           Document_network[0][0]           \n",
      "                                                                 Mairesse_features_input[0][0]    \n",
      "__________________________________________________________________________________________________\n",
      "Dense_200 (Dense)               (None, 200)          137000      DocumentVectors[0][0]            \n",
      "__________________________________________________________________________________________________\n",
      "batch_normalization_15 (BatchNo (None, 200)          800         Dense_200[0][0]                  \n",
      "__________________________________________________________________________________________________\n",
      "activation_15 (Activation)      (None, 200)          0           batch_normalization_15[0][0]     \n",
      "__________________________________________________________________________________________________\n",
      "Dropout_0.5 (Dropout)           (None, 200)          0           activation_15[0][0]              \n",
      "__________________________________________________________________________________________________\n",
      "Final_Classification (Dense)    (None, 2)            402         Dropout_0.5[0][0]                \n",
      "==================================================================================================\n",
      "Total params: 6,409,102\n",
      "Trainable params: 6,407,502\n",
      "Non-trainable params: 1,600\n",
      "__________________________________________________________________________________________________\n"
     ]
    }
   ],
   "source": [
    "wordEncoder, model = building_nn_model(N_SENT,N_WORD,N_MAI,same_params=True,show_model=True)"
   ]
  },
  {
   "cell_type": "markdown",
   "metadata": {
    "colab_type": "text",
    "id": "XHrsCRJy70SE"
   },
   "source": [
    "## **VISUALIZATION OF ARCHITECTURE**"
   ]
  },
  {
   "cell_type": "code",
   "execution_count": 0,
   "metadata": {
    "colab": {
     "base_uri": "https://localhost:8080/",
     "height": 584
    },
    "colab_type": "code",
    "id": "scpTMOmB5ekY",
    "outputId": "a0aa3745-5047-4b55-8c24-bcd469c3e1a4"
   },
   "outputs": [
    {
     "data": {
      "image/png": "[encoded data removed]",
      "text/plain": [
       "<IPython.core.display.Image object>"
      ]
     },
     "execution_count": 55,
     "metadata": {
      "tags": []
     },
     "output_type": "execute_result"
    }
   ],
   "source": [
    "# MODEL VISUALISATION FOR WORD VECTORIZATION\n",
    "\n",
    "tf.keras.utils.plot_model(wordEncoder)"
   ]
  },
  {
   "cell_type": "code",
   "execution_count": 0,
   "metadata": {
    "colab": {
     "base_uri": "https://localhost:8080/",
     "height": 1000
    },
    "colab_type": "code",
    "id": "f5nokMBr5eZ9",
    "outputId": "8ea69273-f680-4510-b11e-64002e57ca9d"
   },
   "outputs": [
    {
     "data": {
      "image/png": "[encoded data removed]",
      "text/plain": [
       "<IPython.core.display.Image object>"
      ]
     },
     "execution_count": 54,
     "metadata": {
      "tags": []
     },
     "output_type": "execute_result"
    }
   ],
   "source": [
    "# MODEL VISUALISATION FOR SENTENCES & DOCUMENTS VECTORIZATION\n",
    "\n",
    "tf.keras.utils.plot_model(model)"
   ]
  },
  {
   "cell_type": "markdown",
   "metadata": {},
   "source": [
    "Now that our Neural Network Architecture is built, we first want to do train our model and perform classification for only single personality trait and then evaluate our model performance."
   ]
  },
  {
   "cell_type": "code",
   "execution_count": 0,
   "metadata": {
    "colab": {
     "base_uri": "https://localhost:8080/",
     "height": 1000
    },
    "colab_type": "code",
    "id": "ndol-Af5u2Jr",
    "outputId": "7e7efae1-c99d-400d-9e01-42458ffb1ef4",
    "scrolled": true
   },
   "outputs": [
    {
     "name": "stdout",
     "output_type": "stream",
     "text": [
      "Train on 824 samples, validate on 176 samples\n",
      "Epoch 1/30\n",
      "824/824 [==============================] - 33s 40ms/sample - loss: 4.3723 - accuracy: 0.5158 - val_loss: 2.3466 - val_accuracy: 0.4659\n",
      "Epoch 2/30\n",
      "824/824 [==============================] - 29s 35ms/sample - loss: 2.7120 - accuracy: 0.5328 - val_loss: 1.9086 - val_accuracy: 0.4886\n",
      "Epoch 3/30\n",
      "824/824 [==============================] - 29s 35ms/sample - loss: 2.0983 - accuracy: 0.6214 - val_loss: 1.6685 - val_accuracy: 0.5852\n",
      "Epoch 4/30\n",
      "824/824 [==============================] - 29s 35ms/sample - loss: 1.8051 - accuracy: 0.6650 - val_loss: 1.5693 - val_accuracy: 0.5625\n",
      "Epoch 5/30\n",
      "824/824 [==============================] - 29s 35ms/sample - loss: 1.6003 - accuracy: 0.7718 - val_loss: 1.4742 - val_accuracy: 0.5398\n",
      "Epoch 6/30\n",
      "824/824 [==============================] - 29s 35ms/sample - loss: 1.4074 - accuracy: 0.8604 - val_loss: 1.3906 - val_accuracy: 0.6023\n",
      "Epoch 7/30\n",
      "824/824 [==============================] - 29s 35ms/sample - loss: 1.3040 - accuracy: 0.8871 - val_loss: 1.3298 - val_accuracy: 0.5909\n",
      "Epoch 8/30\n",
      "824/824 [==============================] - 29s 35ms/sample - loss: 1.1929 - accuracy: 0.9150 - val_loss: 1.2626 - val_accuracy: 0.5795\n",
      "Epoch 9/30\n",
      "824/824 [==============================] - 29s 35ms/sample - loss: 1.1312 - accuracy: 0.9017 - val_loss: 1.2110 - val_accuracy: 0.6136\n",
      "Epoch 10/30\n",
      "824/824 [==============================] - 29s 35ms/sample - loss: 1.0467 - accuracy: 0.9260 - val_loss: 1.1561 - val_accuracy: 0.5909\n",
      "Epoch 11/30\n",
      "824/824 [==============================] - 29s 35ms/sample - loss: 0.9683 - accuracy: 0.9539 - val_loss: 1.1158 - val_accuracy: 0.5455\n",
      "Epoch 12/30\n",
      "824/824 [==============================] - 29s 35ms/sample - loss: 0.9302 - accuracy: 0.9442 - val_loss: 1.0601 - val_accuracy: 0.5966\n",
      "Epoch 13/30\n",
      "824/824 [==============================] - 29s 35ms/sample - loss: 0.8734 - accuracy: 0.9357 - val_loss: 1.0224 - val_accuracy: 0.6023\n",
      "Epoch 14/30\n",
      "824/824 [==============================] - 29s 35ms/sample - loss: 0.8306 - accuracy: 0.9490 - val_loss: 1.0104 - val_accuracy: 0.5398\n",
      "Epoch 15/30\n",
      "824/824 [==============================] - 29s 35ms/sample - loss: 0.7829 - accuracy: 0.9502 - val_loss: 0.9684 - val_accuracy: 0.5852\n",
      "Epoch 16/30\n",
      "824/824 [==============================] - 29s 35ms/sample - loss: 0.7368 - accuracy: 0.9636 - val_loss: 0.9456 - val_accuracy: 0.6023\n",
      "Epoch 17/30\n",
      "824/824 [==============================] - 29s 35ms/sample - loss: 0.6970 - accuracy: 0.9660 - val_loss: 0.9201 - val_accuracy: 0.5852\n",
      "Epoch 18/30\n",
      "824/824 [==============================] - 29s 35ms/sample - loss: 0.6725 - accuracy: 0.9624 - val_loss: 0.8856 - val_accuracy: 0.6080\n",
      "Epoch 19/30\n",
      "824/824 [==============================] - 29s 35ms/sample - loss: 0.6340 - accuracy: 0.9600 - val_loss: 0.8757 - val_accuracy: 0.6023\n",
      "Epoch 20/30\n",
      "824/824 [==============================] - 29s 35ms/sample - loss: 0.6041 - accuracy: 0.9697 - val_loss: 0.8482 - val_accuracy: 0.6080\n",
      "Epoch 21/30\n",
      "824/824 [==============================] - 29s 35ms/sample - loss: 0.5785 - accuracy: 0.9697 - val_loss: 0.8413 - val_accuracy: 0.5909\n",
      "Epoch 22/30\n",
      "824/824 [==============================] - 29s 35ms/sample - loss: 0.5606 - accuracy: 0.9709 - val_loss: 0.8083 - val_accuracy: 0.6080\n",
      "Epoch 23/30\n",
      "824/824 [==============================] - 29s 35ms/sample - loss: 0.5366 - accuracy: 0.9697 - val_loss: 0.8353 - val_accuracy: 0.5625\n",
      "Epoch 24/30\n",
      "824/824 [==============================] - 29s 35ms/sample - loss: 0.5187 - accuracy: 0.9769 - val_loss: 0.8022 - val_accuracy: 0.5795\n",
      "Epoch 25/30\n",
      "824/824 [==============================] - 29s 35ms/sample - loss: 0.4970 - accuracy: 0.9733 - val_loss: 0.7967 - val_accuracy: 0.5852\n",
      "Epoch 26/30\n",
      "824/824 [==============================] - 29s 35ms/sample - loss: 0.4747 - accuracy: 0.9806 - val_loss: 0.7707 - val_accuracy: 0.5966\n",
      "Epoch 27/30\n",
      "824/824 [==============================] - 29s 35ms/sample - loss: 0.4681 - accuracy: 0.9745 - val_loss: 0.7987 - val_accuracy: 0.5966\n",
      "Epoch 28/30\n",
      "824/824 [==============================] - 29s 35ms/sample - loss: 0.4429 - accuracy: 0.9830 - val_loss: 0.8120 - val_accuracy: 0.5852\n",
      "Epoch 29/30\n",
      "824/824 [==============================] - 29s 35ms/sample - loss: 0.4432 - accuracy: 0.9769 - val_loss: 0.8172 - val_accuracy: 0.6136\n",
      "Epoch 30/30\n",
      "824/824 [==============================] - 29s 35ms/sample - loss: 0.4380 - accuracy: 0.9684 - val_loss: 0.7782 - val_accuracy: 0.5966\n"
     ]
    }
   ],
   "source": [
    "# TRAINING THE MODEL for Single Personality Trait\n",
    "\n",
    "history = model.fit([trainX, mTrain], trainY, epochs=30, batch_size=32, validation_data=([testX, mTest], testY))"
   ]
  },
  {
   "cell_type": "markdown",
   "metadata": {},
   "source": [
    "For 30 epochs, we achieved close to 97 percent accuracy which is very close to that of the results published in the paper.\n",
    "\n",
    "Now we want to extend our model functionality by including all personality types and evaluate our model performance both on training and validation sets."
   ]
  },
  {
   "cell_type": "markdown",
   "metadata": {
    "colab_type": "text",
    "id": "7hsIm80VQPqX"
   },
   "source": [
    "## **Final Classification for All 5 Personalities Traits [EXT,NEU,AGR,CON,OPN]**"
   ]
  },
  {
   "cell_type": "code",
   "execution_count": 0,
   "metadata": {
    "colab": {
     "base_uri": "https://localhost:8080/",
     "height": 1000
    },
    "colab_type": "code",
    "id": "Evncn_WuqfFM",
    "outputId": "b5bbccd4-b7d4-4c17-cfdb-58922a9548b3",
    "scrolled": true
   },
   "outputs": [
    {
     "name": "stdout",
     "output_type": "stream",
     "text": [
      "\n",
      "personality: EXT\n",
      "Train on 824 samples\n",
      "Epoch 1/20\n",
      "824/824 [==============================] - 34s 42ms/sample - loss: 4.4280 - accuracy: 0.5085\n",
      "Epoch 2/20\n",
      "824/824 [==============================] - 28s 33ms/sample - loss: 2.7156 - accuracy: 0.5303\n",
      "Epoch 3/20\n",
      "824/824 [==============================] - 28s 33ms/sample - loss: 2.1024 - accuracy: 0.5874\n",
      "Epoch 4/20\n",
      "824/824 [==============================] - 27s 33ms/sample - loss: 1.8198 - accuracy: 0.6481\n",
      "Epoch 5/20\n",
      "824/824 [==============================] - 27s 33ms/sample - loss: 1.6010 - accuracy: 0.7597\n",
      "Epoch 6/20\n",
      "824/824 [==============================] - 27s 33ms/sample - loss: 1.4327 - accuracy: 0.8252\n",
      "Epoch 7/20\n",
      "824/824 [==============================] - 28s 33ms/sample - loss: 1.2802 - accuracy: 0.9102\n",
      "Epoch 8/20\n",
      "824/824 [==============================] - 28s 33ms/sample - loss: 1.1867 - accuracy: 0.9211\n",
      "Epoch 9/20\n",
      "824/824 [==============================] - 28s 33ms/sample - loss: 1.0967 - accuracy: 0.9296\n",
      "Epoch 10/20\n",
      "824/824 [==============================] - 28s 33ms/sample - loss: 1.0169 - accuracy: 0.9405\n",
      "Epoch 11/20\n",
      "824/824 [==============================] - 28s 33ms/sample - loss: 0.9651 - accuracy: 0.9333\n",
      "Epoch 12/20\n",
      "824/824 [==============================] - 28s 33ms/sample - loss: 0.9047 - accuracy: 0.9333\n",
      "Epoch 13/20\n",
      "824/824 [==============================] - 28s 33ms/sample - loss: 0.8664 - accuracy: 0.9417\n",
      "Epoch 14/20\n",
      "824/824 [==============================] - 28s 33ms/sample - loss: 0.7947 - accuracy: 0.9587\n",
      "Epoch 15/20\n",
      "824/824 [==============================] - 28s 33ms/sample - loss: 0.7780 - accuracy: 0.9381\n",
      "Epoch 16/20\n",
      "824/824 [==============================] - 28s 34ms/sample - loss: 0.7194 - accuracy: 0.9672\n",
      "Epoch 17/20\n",
      "824/824 [==============================] - 28s 33ms/sample - loss: 0.6983 - accuracy: 0.9490\n",
      "Epoch 18/20\n",
      "824/824 [==============================] - 28s 33ms/sample - loss: 0.6562 - accuracy: 0.9612\n",
      "Epoch 19/20\n",
      "824/824 [==============================] - 28s 34ms/sample - loss: 0.6250 - accuracy: 0.9660\n",
      "Epoch 20/20\n",
      "824/824 [==============================] - 28s 33ms/sample - loss: 0.5997 - accuracy: 0.9624\n",
      "\n",
      "personality: NEU\n",
      "Train on 824 samples\n",
      "Epoch 1/20\n",
      "824/824 [==============================] - 29s 35ms/sample - loss: 4.3907 - accuracy: 0.5024\n",
      "Epoch 2/20\n",
      "824/824 [==============================] - 28s 33ms/sample - loss: 2.7479 - accuracy: 0.5000\n",
      "Epoch 3/20\n",
      "824/824 [==============================] - 28s 33ms/sample - loss: 2.1178 - accuracy: 0.6032\n",
      "Epoch 4/20\n",
      "824/824 [==============================] - 28s 33ms/sample - loss: 1.8101 - accuracy: 0.6638\n",
      "Epoch 5/20\n",
      "824/824 [==============================] - 28s 33ms/sample - loss: 1.5868 - accuracy: 0.7767\n",
      "Epoch 6/20\n",
      "824/824 [==============================] - 28s 33ms/sample - loss: 1.4551 - accuracy: 0.8398\n",
      "Epoch 7/20\n",
      "824/824 [==============================] - 28s 33ms/sample - loss: 1.3056 - accuracy: 0.8774\n",
      "Epoch 8/20\n",
      "824/824 [==============================] - 28s 33ms/sample - loss: 1.1934 - accuracy: 0.9163\n",
      "Epoch 9/20\n",
      "824/824 [==============================] - 28s 33ms/sample - loss: 1.1157 - accuracy: 0.9223\n",
      "Epoch 10/20\n",
      "824/824 [==============================] - 28s 33ms/sample - loss: 1.0344 - accuracy: 0.9527\n",
      "Epoch 11/20\n",
      "824/824 [==============================] - 28s 34ms/sample - loss: 0.9973 - accuracy: 0.9296\n",
      "Epoch 12/20\n",
      "824/824 [==============================] - 28s 34ms/sample - loss: 0.9154 - accuracy: 0.9527\n",
      "Epoch 13/20\n",
      "824/824 [==============================] - 28s 33ms/sample - loss: 0.8527 - accuracy: 0.9648\n",
      "Epoch 14/20\n",
      "824/824 [==============================] - 28s 33ms/sample - loss: 0.8084 - accuracy: 0.9624\n",
      "Epoch 15/20\n",
      "824/824 [==============================] - 28s 34ms/sample - loss: 0.7742 - accuracy: 0.9527\n",
      "Epoch 16/20\n",
      "824/824 [==============================] - 28s 34ms/sample - loss: 0.7327 - accuracy: 0.9515\n",
      "Epoch 17/20\n",
      "824/824 [==============================] - 28s 34ms/sample - loss: 0.6988 - accuracy: 0.9660\n",
      "Epoch 18/20\n",
      "824/824 [==============================] - 28s 34ms/sample - loss: 0.6598 - accuracy: 0.9636\n",
      "Epoch 19/20\n",
      "824/824 [==============================] - 28s 33ms/sample - loss: 0.6226 - accuracy: 0.9709\n",
      "Epoch 20/20\n",
      "824/824 [==============================] - 28s 34ms/sample - loss: 0.5897 - accuracy: 0.9769\n",
      "\n",
      "personality: AGR\n",
      "Train on 824 samples\n",
      "Epoch 1/20\n",
      "824/824 [==============================] - 30s 36ms/sample - loss: 4.4520 - accuracy: 0.5291\n",
      "Epoch 2/20\n",
      "824/824 [==============================] - 28s 33ms/sample - loss: 2.7250 - accuracy: 0.5400\n",
      "Epoch 3/20\n",
      "824/824 [==============================] - 28s 33ms/sample - loss: 2.0948 - accuracy: 0.5777\n",
      "Epoch 4/20\n",
      "824/824 [==============================] - 28s 34ms/sample - loss: 1.7947 - accuracy: 0.6493\n",
      "Epoch 5/20\n",
      "824/824 [==============================] - 28s 34ms/sample - loss: 1.6060 - accuracy: 0.7221\n",
      "Epoch 6/20\n",
      "824/824 [==============================] - 28s 33ms/sample - loss: 1.4309 - accuracy: 0.8422\n",
      "Epoch 7/20\n",
      "824/824 [==============================] - 28s 33ms/sample - loss: 1.3146 - accuracy: 0.8726\n",
      "Epoch 8/20\n",
      "824/824 [==============================] - 27s 33ms/sample - loss: 1.1944 - accuracy: 0.9041\n",
      "Epoch 9/20\n",
      "824/824 [==============================] - 28s 33ms/sample - loss: 1.1114 - accuracy: 0.9187\n",
      "Epoch 10/20\n",
      "824/824 [==============================] - 28s 34ms/sample - loss: 1.0251 - accuracy: 0.9442\n",
      "Epoch 11/20\n",
      "824/824 [==============================] - 28s 33ms/sample - loss: 0.9560 - accuracy: 0.9563\n",
      "Epoch 12/20\n",
      "824/824 [==============================] - 27s 33ms/sample - loss: 0.8953 - accuracy: 0.9551\n",
      "Epoch 13/20\n",
      "824/824 [==============================] - 27s 33ms/sample - loss: 0.8358 - accuracy: 0.9684\n",
      "Epoch 14/20\n",
      "824/824 [==============================] - 27s 33ms/sample - loss: 0.7933 - accuracy: 0.9636\n",
      "Epoch 15/20\n",
      "824/824 [==============================] - 27s 33ms/sample - loss: 0.7519 - accuracy: 0.9551\n",
      "Epoch 16/20\n",
      "824/824 [==============================] - 28s 34ms/sample - loss: 0.7198 - accuracy: 0.9600\n",
      "Epoch 17/20\n",
      "824/824 [==============================] - 28s 33ms/sample - loss: 0.6843 - accuracy: 0.9539\n",
      "Epoch 18/20\n",
      "824/824 [==============================] - 28s 33ms/sample - loss: 0.6519 - accuracy: 0.9648\n",
      "Epoch 19/20\n",
      "824/824 [==============================] - 28s 33ms/sample - loss: 0.6265 - accuracy: 0.9600\n",
      "Epoch 20/20\n",
      "824/824 [==============================] - 27s 33ms/sample - loss: 0.5973 - accuracy: 0.9697\n",
      "\n",
      "personality: CON\n",
      "Train on 824 samples\n",
      "Epoch 1/20\n",
      "824/824 [==============================] - 29s 35ms/sample - loss: 4.3388 - accuracy: 0.5158\n",
      "Epoch 2/20\n",
      "824/824 [==============================] - 27s 33ms/sample - loss: 2.6619 - accuracy: 0.5461\n",
      "Epoch 3/20\n",
      "824/824 [==============================] - 28s 33ms/sample - loss: 2.0888 - accuracy: 0.5825\n",
      "Epoch 4/20\n",
      "824/824 [==============================] - 28s 33ms/sample - loss: 1.7898 - accuracy: 0.6408\n",
      "Epoch 5/20\n",
      "824/824 [==============================] - 28s 33ms/sample - loss: 1.5528 - accuracy: 0.7925\n",
      "Epoch 6/20\n",
      "824/824 [==============================] - 27s 33ms/sample - loss: 1.3968 - accuracy: 0.8568\n",
      "Epoch 7/20\n",
      "824/824 [==============================] - 28s 33ms/sample - loss: 1.2736 - accuracy: 0.8859\n",
      "Epoch 8/20\n",
      "824/824 [==============================] - 27s 33ms/sample - loss: 1.1627 - accuracy: 0.9199\n",
      "Epoch 9/20\n",
      "824/824 [==============================] - 27s 33ms/sample - loss: 1.0885 - accuracy: 0.9345\n",
      "Epoch 10/20\n",
      "824/824 [==============================] - 27s 33ms/sample - loss: 1.0173 - accuracy: 0.9248\n",
      "Epoch 11/20\n",
      "824/824 [==============================] - 27s 33ms/sample - loss: 0.9548 - accuracy: 0.9333\n",
      "Epoch 12/20\n",
      "824/824 [==============================] - 27s 33ms/sample - loss: 0.9051 - accuracy: 0.9454\n",
      "Epoch 13/20\n",
      "824/824 [==============================] - 28s 33ms/sample - loss: 0.8373 - accuracy: 0.9551\n",
      "Epoch 14/20\n",
      "824/824 [==============================] - 28s 33ms/sample - loss: 0.7804 - accuracy: 0.9721\n",
      "Epoch 15/20\n",
      "824/824 [==============================] - 27s 33ms/sample - loss: 0.7368 - accuracy: 0.9709\n",
      "Epoch 16/20\n",
      "824/824 [==============================] - 28s 33ms/sample - loss: 0.7151 - accuracy: 0.9563\n",
      "Epoch 17/20\n",
      "824/824 [==============================] - 28s 33ms/sample - loss: 0.6892 - accuracy: 0.9551\n",
      "Epoch 18/20\n",
      "824/824 [==============================] - 28s 33ms/sample - loss: 0.6502 - accuracy: 0.9600\n",
      "Epoch 19/20\n",
      "824/824 [==============================] - 28s 33ms/sample - loss: 0.6246 - accuracy: 0.9624\n",
      "Epoch 20/20\n",
      "824/824 [==============================] - 28s 33ms/sample - loss: 0.5962 - accuracy: 0.9660\n",
      "\n",
      "personality: OPN\n",
      "Train on 824 samples\n",
      "Epoch 1/20\n",
      "824/824 [==============================] - 29s 35ms/sample - loss: 4.4076 - accuracy: 0.5352\n",
      "Epoch 2/20\n",
      "824/824 [==============================] - 28s 33ms/sample - loss: 2.7131 - accuracy: 0.5388\n",
      "Epoch 3/20\n",
      "824/824 [==============================] - 28s 33ms/sample - loss: 2.0817 - accuracy: 0.6396\n",
      "Epoch 4/20\n",
      "824/824 [==============================] - 28s 33ms/sample - loss: 1.7769 - accuracy: 0.7160\n",
      "Epoch 5/20\n",
      "824/824 [==============================] - 28s 33ms/sample - loss: 1.5434 - accuracy: 0.8350\n",
      "Epoch 6/20\n",
      "824/824 [==============================] - 28s 34ms/sample - loss: 1.4019 - accuracy: 0.8641\n",
      "Epoch 7/20\n",
      "824/824 [==============================] - 27s 33ms/sample - loss: 1.2743 - accuracy: 0.8944\n",
      "Epoch 8/20\n",
      "824/824 [==============================] - 28s 33ms/sample - loss: 1.1890 - accuracy: 0.8956\n",
      "Epoch 9/20\n",
      "824/824 [==============================] - 28s 33ms/sample - loss: 1.0996 - accuracy: 0.9333\n",
      "Epoch 10/20\n",
      "824/824 [==============================] - 27s 33ms/sample - loss: 1.0067 - accuracy: 0.9600\n",
      "Epoch 11/20\n",
      "824/824 [==============================] - 28s 33ms/sample - loss: 0.9542 - accuracy: 0.9502\n",
      "Epoch 12/20\n",
      "824/824 [==============================] - 28s 34ms/sample - loss: 0.9107 - accuracy: 0.9430\n",
      "Epoch 13/20\n",
      "824/824 [==============================] - 28s 33ms/sample - loss: 0.8540 - accuracy: 0.9490\n",
      "Epoch 14/20\n",
      "824/824 [==============================] - 27s 33ms/sample - loss: 0.8079 - accuracy: 0.9539\n",
      "Epoch 15/20\n",
      "824/824 [==============================] - 28s 34ms/sample - loss: 0.7624 - accuracy: 0.9539\n",
      "Epoch 16/20\n",
      "824/824 [==============================] - 28s 33ms/sample - loss: 0.7220 - accuracy: 0.9684\n",
      "Epoch 17/20\n",
      "824/824 [==============================] - 28s 33ms/sample - loss: 0.6919 - accuracy: 0.9587\n",
      "Epoch 18/20\n",
      "824/824 [==============================] - 28s 34ms/sample - loss: 0.6640 - accuracy: 0.9575\n",
      "Epoch 19/20\n",
      "824/824 [==============================] - 28s 34ms/sample - loss: 0.6354 - accuracy: 0.9600\n",
      "Epoch 20/20\n",
      "824/824 [==============================] - 28s 34ms/sample - loss: 0.5869 - accuracy: 0.9806\n"
     ]
    }
   ],
   "source": [
    "# Funcion to create dataset for each personality and train the model\n",
    "\n",
    "filter_h = 3\n",
    "\n",
    "def CNN(per_attr):\n",
    "    \n",
    "    trainX, testX, trainY, testY, mTrain, mTest = create_dataset(revs, \n",
    "                                                                word_idx_map, \n",
    "                                                                charged_words, \n",
    "                                                                N_WORD, \n",
    "                                                                N_SENT, \n",
    "                                                                filter_h, \n",
    "                                                                cv, \n",
    "                                                                per_attr, \n",
    "                                                                k = 300)\n",
    "\n",
    "    N_WORD_vec, N_SENT_vec = trainX.shape[2], trainX.shape[1]\n",
    "    pre_model, model = building_nn_model(N_SENT_vec, N_WORD_vec, 84, same_params=True, show_model=False)\n",
    "    history = model.fit([trainX, mTrain], trainY , batch_size = 32, epochs=20, verbose = 1)\n",
    "    val_score = model.evaluate([testX, mTest], testY, verbose = 0)\n",
    "    return history,val_score[1], \n",
    "\n",
    "pers = {0: 'EXT', 1: 'NEU', 2: 'AGR', 3: 'CON' ,4: 'OPN'}\n",
    "pers_acc = {}\n",
    "histories = []\n",
    "\n",
    "for per_attr in range(5):    \n",
    "    print('')\n",
    "    print('personality: {}'.format(pers[per_attr]))\n",
    "\n",
    "    history,val_acc = CNN(per_attr)\n",
    "    histories.append(history)\n",
    "    pers_acc[pers[per_attr]] = val_acc"
   ]
  },
  {
   "cell_type": "markdown",
   "metadata": {},
   "source": [
    "Our Model achieved accuracies between 96-98 percent for all the 5 personality traits on training !"
   ]
  },
  {
   "cell_type": "markdown",
   "metadata": {
    "colab_type": "text",
    "id": "oCxEf5dc8ZEp"
   },
   "source": [
    "## Part 4 - Experimental evaluation"
   ]
  },
  {
   "cell_type": "markdown",
   "metadata": {
    "colab_type": "text",
    "id": "ZiLhQL0Hq5FB"
   },
   "source": [
    "### Here is the plot of accuracy and loss of train and validation set for the first personality 'EXT'\n"
   ]
  },
  {
   "cell_type": "code",
   "execution_count": 0,
   "metadata": {
    "colab": {
     "base_uri": "https://localhost:8080/",
     "height": 280
    },
    "colab_type": "code",
    "id": "qLEJHWcGjC0S",
    "outputId": "6b5487f7-d7db-4a28-f873-a983695fa02e"
   },
   "outputs": [
    {
     "data": {
      "image/png": "[encoded data removed]",
      "text/plain": [
       "<Figure size 432x288 with 1 Axes>"
      ]
     },
     "metadata": {
      "tags": []
     },
     "output_type": "display_data"
    }
   ],
   "source": [
    "# Plotting the accuracy for One Personality Trait\n",
    "\n",
    "plt.plot(history.history['accuracy'],label='Train')\n",
    "plt.plot(history.history['val_accuracy'],label='Val')\n",
    "plt.xlabel('Number of Epochs ')\n",
    "plt.ylabel('Accuracy (%) ')\n",
    "plt.legend()\n",
    "plt.show()"
   ]
  },
  {
   "cell_type": "markdown",
   "metadata": {
    "colab_type": "text",
    "id": "tHlxx6pOrVKQ"
   },
   "source": [
    "The accucracy on train set shows a increasing trend as we number of epochs increases while the accuracy on validation data remains between 50 - 60 % with some fluctuations."
   ]
  },
  {
   "cell_type": "code",
   "execution_count": 0,
   "metadata": {
    "colab": {
     "base_uri": "https://localhost:8080/",
     "height": 280
    },
    "colab_type": "code",
    "id": "5dCSWbU5jQLw",
    "outputId": "dc1a8cf2-4f69-4426-f1b2-f81fcf663ebf"
   },
   "outputs": [
    {
     "data": {
      "image/png": "[encoded data removed]",
      "text/plain": [
       "<Figure size 432x288 with 1 Axes>"
      ]
     },
     "metadata": {
      "tags": []
     },
     "output_type": "display_data"
    }
   ],
   "source": [
    "# Plotting the Loss for One Personality Trait\n",
    "\n",
    "plt.plot(history.history['loss'],label='Train')\n",
    "plt.plot(history.history['val_loss'],label='Val')\n",
    "plt.legend()\n",
    "plt.xlabel('Number of Epochs ')\n",
    "plt.ylabel('Loss (%) ')\n",
    "plt.show()"
   ]
  },
  {
   "cell_type": "markdown",
   "metadata": {
    "colab_type": "text",
    "id": "naf8QRYkr03L"
   },
   "source": [
    "From the above plot we can observe that Loss decreases for both train and validation sets as the number of epochs increases. "
   ]
  },
  {
   "cell_type": "markdown",
   "metadata": {
    "colab_type": "text",
    "id": "rH-7uaoCHJB9"
   },
   "source": [
    "## **Final results on Test Data**"
   ]
  },
  {
   "cell_type": "code",
   "execution_count": 0,
   "metadata": {
    "colab": {
     "base_uri": "https://localhost:8080/",
     "height": 204
    },
    "colab_type": "code",
    "id": "L3I_WU6tqQ-Z",
    "outputId": "ab74c85d-103b-452b-acc8-cae716a94c3e"
   },
   "outputs": [
    {
     "data": {
      "text/html": [
       "<div>\n",
       "<style scoped>\n",
       "    .dataframe tbody tr th:only-of-type {\n",
       "        vertical-align: middle;\n",
       "    }\n",
       "\n",
       "    .dataframe tbody tr th {\n",
       "        vertical-align: top;\n",
       "    }\n",
       "\n",
       "    .dataframe thead th {\n",
       "        text-align: right;\n",
       "    }\n",
       "</style>\n",
       "<table border=\"1\" class=\"dataframe\">\n",
       "  <thead>\n",
       "    <tr style=\"text-align: right;\">\n",
       "      <th></th>\n",
       "      <th>Personality</th>\n",
       "      <th>Accuracy</th>\n",
       "    </tr>\n",
       "  </thead>\n",
       "  <tbody>\n",
       "    <tr>\n",
       "      <th>0</th>\n",
       "      <td>EXT</td>\n",
       "      <td>0.556818</td>\n",
       "    </tr>\n",
       "    <tr>\n",
       "      <th>1</th>\n",
       "      <td>NEU</td>\n",
       "      <td>0.562500</td>\n",
       "    </tr>\n",
       "    <tr>\n",
       "      <th>2</th>\n",
       "      <td>AGR</td>\n",
       "      <td>0.500000</td>\n",
       "    </tr>\n",
       "    <tr>\n",
       "      <th>3</th>\n",
       "      <td>CON</td>\n",
       "      <td>0.585227</td>\n",
       "    </tr>\n",
       "    <tr>\n",
       "      <th>4</th>\n",
       "      <td>OPN</td>\n",
       "      <td>0.522727</td>\n",
       "    </tr>\n",
       "  </tbody>\n",
       "</table>\n",
       "</div>"
      ],
      "text/plain": [
       "  Personality  Accuracy\n",
       "0         EXT  0.556818\n",
       "1         NEU  0.562500\n",
       "2         AGR  0.500000\n",
       "3         CON  0.585227\n",
       "4         OPN  0.522727"
      ]
     },
     "execution_count": 52,
     "metadata": {
      "tags": []
     },
     "output_type": "execute_result"
    }
   ],
   "source": [
    "# Final results on Test Data\n",
    "per_type = pd.DataFrame(pers_acc.items(),columns=['Personality','Accuracy'])\n",
    "per_type"
   ]
  },
  {
   "cell_type": "markdown",
   "metadata": {
    "colab_type": "text",
    "id": "NFZ59CmTHM49"
   },
   "source": [
    "We got results which have accuracy a bit less than those presented in the paper. This might be due to the reason that we chose to work with only 1000 documents/essays out of total 2467 using only 20 epochs. This is to reduce the overall processing time and also considering limitations on memory."
   ]
  },
  {
   "cell_type": "markdown",
   "metadata": {},
   "source": [
    "\n",
    "\n",
    "*Thank you ...!*"
   ]
  },
  {
   "cell_type": "code",
   "execution_count": null,
   "metadata": {},
   "outputs": [],
   "source": []
  }
 ],
 "metadata": {
  "accelerator": "GPU",
  "colab": {
   "collapsed_sections": [],
   "machine_shape": "hm",
   "name": "Copy of draftTemplate_Exam_Neural_Networks.ipynb",
   "provenance": []
  },
  "kernelspec": {
   "display_name": "Python 3",
   "language": "python",
   "name": "python3"
  },
  "language_info": {
   "codemirror_mode": {
    "name": "ipython",
    "version": 3
   },
   "file_extension": ".py",
   "mimetype": "text/x-python",
   "name": "python",
   "nbconvert_exporter": "python",
   "pygments_lexer": "ipython3",
   "version": "3.7.3"
  }
 },
 "nbformat": 4,
 "nbformat_minor": 1
}
